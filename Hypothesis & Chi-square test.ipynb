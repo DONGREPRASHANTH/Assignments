{
 "cells": [
  {
   "cell_type": "markdown",
   "id": "0dd92300-73c5-47b8-bc18-0c2a084ca676",
   "metadata": {},
   "source": [
    "#### Importing required libraries "
   ]
  },
  {
   "cell_type": "code",
   "execution_count": 2,
   "id": "b24597d8-d18c-4040-a508-1ae890a7cf68",
   "metadata": {},
   "outputs": [],
   "source": [
    "import numpy as np\n",
    "import pandas as pd\n",
    "from scipy.stats import chi2"
   ]
  },
  {
   "cell_type": "markdown",
   "id": "1a39aa80-f38b-4333-bf93-2e2048c2c1b4",
   "metadata": {},
   "source": [
    "#### giving data"
   ]
  },
  {
   "cell_type": "code",
   "execution_count": 8,
   "id": "005513b6-5183-4a10-ba7f-41788516bee5",
   "metadata": {},
   "outputs": [],
   "source": [
    "data = {\n",
    "    'Very Satisfied': [50, 70],\n",
    "    'Satisfied': [80, 100],\n",
    "    'Neutral': [60, 90],\n",
    "    'Unsatisfied': [30, 50],\n",
    "    'Very Unsatisfied': [20, 50]\n",
    "}"
   ]
  },
  {
   "cell_type": "code",
   "execution_count": 10,
   "id": "52ffe9ee-6e58-42c9-a1b0-4a3500f4f40b",
   "metadata": {},
   "outputs": [],
   "source": [
    "# Creating a DataFrame\n",
    "df = pd.DataFrame(data, index=['Smart Thermostat', 'Smart Light'])\n",
    "observed = df.values"
   ]
  },
  {
   "cell_type": "code",
   "execution_count": 12,
   "id": "4802ac24-531c-4654-af77-9a368765c7c0",
   "metadata": {},
   "outputs": [],
   "source": [
    "# Total counts\n",
    "row_totals = observed.sum(axis=1)\n",
    "col_totals = observed.sum(axis=0)\n",
    "grand_total = observed.sum()"
   ]
  },
  {
   "cell_type": "code",
   "execution_count": 14,
   "id": "3bb8e2c3-700d-4c5d-a3b9-73ccc22e05e1",
   "metadata": {},
   "outputs": [],
   "source": [
    "# Calculate expected frequencies\n",
    "expected = np.outer(row_totals, col_totals) / grand_total"
   ]
  },
  {
   "cell_type": "code",
   "execution_count": 16,
   "id": "193e2bfb-16f0-4927-b725-cb8936d91cb7",
   "metadata": {},
   "outputs": [],
   "source": [
    "# Calculate Chi-Square statistic\n",
    "chi_square_statistic = ((observed - expected) ** 2 / expected).sum()"
   ]
  },
  {
   "cell_type": "code",
   "execution_count": 22,
   "id": "d04cac77-7ce5-4c23-8b7e-730e471dd46a",
   "metadata": {},
   "outputs": [],
   "source": [
    "# Degrees of freedom calculation \n",
    "degrees_of_freedom = (len(row_totals) - 1) * (len(col_totals) - 1)"
   ]
  },
  {
   "cell_type": "code",
   "execution_count": 24,
   "id": "ed0c4c6c-4824-4219-aa2c-3d2a9b6e8a8d",
   "metadata": {},
   "outputs": [],
   "source": [
    "# Critical value calculation \n",
    "alpha = 0.05\n",
    "critical_value = chi2.ppf(1 - alpha, degrees_of_freedom)"
   ]
  },
  {
   "cell_type": "markdown",
   "id": "6b7f575b-9f95-4fcb-b481-1e113789db60",
   "metadata": {},
   "source": [
    "#### Printing results"
   ]
  },
  {
   "cell_type": "code",
   "execution_count": 26,
   "id": "7c04ac1d-217f-466f-aeb1-dabd10732a98",
   "metadata": {},
   "outputs": [
    {
     "name": "stdout",
     "output_type": "stream",
     "text": [
      "Chi-Square Statistic: 5.638227513227513\n",
      "Critical Value (alpha = 0.05): 9.487729036781154\n",
      "Degrees of Freedom: 4\n"
     ]
    }
   ],
   "source": [
    "print(f\"Chi-Square Statistic: {chi_square_statistic}\")\n",
    "print(f\"Critical Value (alpha = {alpha}): {critical_value}\")\n",
    "print(f\"Degrees of Freedom: {degrees_of_freedom}\")"
   ]
  },
  {
   "cell_type": "code",
   "execution_count": 30,
   "id": "0d9723f5-84ca-4fbf-9171-f3e20af9657e",
   "metadata": {},
   "outputs": [
    {
     "name": "stdout",
     "output_type": "stream",
     "text": [
      "Fail to reject the null hypothesis.\n"
     ]
    }
   ],
   "source": [
    "# Decision\n",
    "if chi_square_statistic > critical_value:\n",
    "    print(\"Reject the null hypothesis.\")\n",
    "else:\n",
    "    print(\"Fail to reject the null hypothesis.\")"
   ]
  },
  {
   "cell_type": "markdown",
   "id": "c158a73b-a4eb-47a7-a780-d436dfe6f6bb",
   "metadata": {},
   "source": [
    "### Tasks"
   ]
  },
  {
   "cell_type": "markdown",
   "id": "f8f9bea8-9e41-4215-9306-dd329a741ed1",
   "metadata": {},
   "source": [
    "### 1.State the Hypotheses:\n",
    "(A hypothesis is not a definitive answer but rather a proposed explanation or a prediction that needs to be validated.)\n",
    "Hypothesis is two types .... those are\n",
    "#### 1) Null Hypothesis (H0):\n",
    " There is no significant association between the type of smart home device purchased and the customer satisfaction level.\n",
    "#### 2) Alternative Hypothesis (Ha)\n",
    " There is a significant association between the type of smart home device purchased and the customer satisfaction level."
   ]
  },
  {
   "cell_type": "markdown",
   "id": "a4d26cb3-759c-4d0b-8893-bbf284a342e1",
   "metadata": {},
   "source": [
    "### 2.Compute the Chi-Square Statistic\n",
    "To compute the Chi-Square statistic, we will use the formula:\n",
    "\n",
    "χ2 =∑(O−E)^2 /E\n",
    "\n",
    "Where:\n",
    "\n",
    "O = Observed frequency\n",
    "E = Expected frequency\n",
    "\n",
    "The expected frequency for each cell can be calculated using:\n",
    "\n",
    "E=(Row Total)(Column Total) / Grand Total\n",
    "\n",
    "​\n"
   ]
  },
  {
   "cell_type": "markdown",
   "id": "fab619d0-2b25-49ff-b1a6-63e80215bbbb",
   "metadata": {},
   "source": [
    "### 3.Determine the Critical Value\n",
    "Using the significance level (\n",
    "α\n",
    "α) of 0.05 and the degrees of freedom:\n",
    "\n",
    "Degrees of Freedom: \n",
    "(Number of Rows−1)×(Number of Columns−1)=(5−1)×(2−1)=4\n",
    "\n",
    "\n",
    "Using a Chi-Square distribution table or a statistical function, we find the critical value for\n",
    "\n",
    "df=4 at α =0.05\n",
    "\n"
   ]
  },
  {
   "cell_type": "markdown",
   "id": "047c8745-e3a5-4624-bd8e-91149a2bad71",
   "metadata": {},
   "source": [
    "### 4.Decision :\n",
    "The decision rule is straightforward:\n",
    "\n",
    "Reject H0: \n",
    "\n",
    "If the calculated χ² is larger than the critical value, it suggests that the discrepancy between observed and expected data is too large to be attributed to chance alone, and we reject the null hypothesis.\n",
    "\n",
    "\n",
    "Fail to reject H0: \n",
    "\n",
    "\n",
    "If the calculated χ² is smaller than or equal to the critical value, it indicates that the observed discrepancy could reasonably be due to chance, and we fail to reject the null hypothesis. "
   ]
  },
  {
   "cell_type": "markdown",
   "id": "a6079a77-317e-4aac-8489-72d9e0dd3cef",
   "metadata": {},
   "source": [
    "### Conclusion \n",
    "The output of the Python code provides the Chi-Square statistic, critical value, and the decision regarding the null hypothesis. Based on the comparison,I can conclude that there is no significant association between the type of device purchased and customer satisfaction level. finnally Mizzare Corporation may conclude that the satisfaction levels of customers do not significantly differ between Smart Thermostats and Smart Lights based on the collected data."
   ]
  },
  {
   "cell_type": "code",
   "execution_count": null,
   "id": "da91b2da-591d-4897-b5b7-40d334628a4d",
   "metadata": {},
   "outputs": [],
   "source": []
  },
  {
   "cell_type": "markdown",
   "id": "ab560c6f-1c5c-4ccf-b97a-2b70f4f4b46c",
   "metadata": {},
   "source": [
    "### HYPOTHESIS TESTING"
   ]
  },
  {
   "cell_type": "markdown",
   "id": "bde1bc2b-2a61-472c-a8f5-01fbff2ca657",
   "metadata": {},
   "source": [
    "#### 1) Definations as per problem\n",
    "\n",
    "#### Null Hypothesis (H0): \n",
    "The mean weekly operating cost is equal to the theoretical cost model.\n",
    "\n",
    "H0 :μ=W=1000+5(600)=4000\n",
    "\n",
    "#### Alternative Hypothesis (H1): \n",
    "The mean weekly operating cost is greater than the theoretical cost model.\n",
    "\n",
    "H1 :μ>4000"
   ]
  },
  {
   "cell_type": "markdown",
   "id": "128f1095-9e4a-428b-ab97-de6e6fe71035",
   "metadata": {},
   "source": [
    "#### 2) Calculating the Test Statistic\r\n",
    "To calculate the test statistict\r\n",
    "\n",
    "t, we use the formul\n",
    "   :\n",
    "x̄-μ/(σ / √n)\n",
    "\n",
    "Sample mean, \\(\\bar{x} = 3050\\)  \r\n",
    "Population mean, \\(\\mu = 4000\\)  \r\n",
    "Population standard deviation, \\(\\sigma = 125\\)  \r\n",
    "Sample size, \\(n = 25\\)"
   ]
  },
  {
   "cell_type": "markdown",
   "id": "618f138d-0253-489b-87f5-95ed6ba598de",
   "metadata": {},
   "source": [
    "#### 3) Determining the Critical Value\r\n",
    "Using the alpha level of 5% (α = 0.05) for a one-tailed test, we can find the critical value from the Z-table. For α = 0.05, the critical value.\n",
    "z \r\n",
    "0.05\r\n",
    "​\r\n",
    "  is approximately 1.645.\r\n",
    "\r\n"
   ]
  },
  {
   "cell_type": "markdown",
   "id": "8fe4db3f-d872-4560-b9c1-86ba8bed78df",
   "metadata": {},
   "source": [
    "### 4)Make a Decision\n",
    "\n",
    "To decide whether to reject the null hypothesis, compare the test statistic to the critical value:\n",
    "\n",
    "If \n",
    "\n",
    "t_{statistic} > z_{critical}\n",
    "\n",
    "\n",
    "reject the null hypothesis.  \n",
    "Otherwise,\n",
    "do not reject the null hypothesis."
   ]
  },
  {
   "cell_type": "markdown",
   "id": "38eca1d1-e27c-49b4-a9c9-a843cba611f3",
   "metadata": {},
   "source": [
    "##### basic python code"
   ]
  },
  {
   "cell_type": "code",
   "execution_count": 55,
   "id": "a208e001-d8cf-4fd8-8e8d-3c2ff1b075d2",
   "metadata": {},
   "outputs": [
    {
     "name": "stdout",
     "output_type": "stream",
     "text": [
      "Test Statistic: -38.0, \n",
      "Critical Value: 1.645. \n",
      "Decision: Fail to reject the null hypothesis.\n"
     ]
    }
   ],
   "source": [
    "# basic libraries \n",
    "import numpy as np\n",
    "from scipy import stats\n",
    "\n",
    "\n",
    "# Calculating the test statistic\n",
    "sample_mean = 3050\n",
    "theoretical_mean = 4000\n",
    "sigma = 5 * 25  # Standard deviation\n",
    "n = 25  # Sample size\n",
    "\n",
    "t_statistic = (sample_mean - theoretical_mean) / (sigma / (n ** 0.5))\n",
    "\n",
    "# Determining the critical value\n",
    "alpha = 0.05\n",
    "z_critical = 1.645  # Critical value for one-tailed test at alpha = 0.05\n",
    "\n",
    "#  Making a decision\n",
    "if t_statistic > z_critical:\n",
    "    decision = \"Reject the null hypothesis\"\n",
    "else:\n",
    "    decision = \"Fail to reject the null hypothesis\"\n",
    "\n",
    "# Conclusion\n",
    "conclusion = f\"Test Statistic: {t_statistic}, \\nCritical Value: {z_critical}. \\nDecision: {decision}.\"\n",
    "\n",
    "print(conclusion)\n"
   ]
  },
  {
   "cell_type": "markdown",
   "id": "c9728dd0-6c20-4222-b3d8-b95cf076f612",
   "metadata": {},
   "source": [
    "#### 5) conclusion \n",
    "Based on the analysis, we conclude that the current cost model remains valid according to the sample data, and the restaurant owner's feedback regarding higher operating costs is not statistically supported at the 5% significance level."
   ]
  },
  {
   "cell_type": "code",
   "execution_count": null,
   "id": "f5e50b06-1af6-4a33-9074-d5821a59899c",
   "metadata": {},
   "outputs": [],
   "source": []
  }
 ],
 "metadata": {
  "kernelspec": {
   "display_name": "Python 3 (ipykernel)",
   "language": "python",
   "name": "python3"
  },
  "language_info": {
   "codemirror_mode": {
    "name": "ipython",
    "version": 3
   },
   "file_extension": ".py",
   "mimetype": "text/x-python",
   "name": "python",
   "nbconvert_exporter": "python",
   "pygments_lexer": "ipython3",
   "version": "3.12.3"
  }
 },
 "nbformat": 4,
 "nbformat_minor": 5
}
