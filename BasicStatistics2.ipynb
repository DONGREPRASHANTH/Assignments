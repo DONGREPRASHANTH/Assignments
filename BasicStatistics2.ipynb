{
 "cells": [
  {
   "cell_type": "code",
   "execution_count": 1,
   "id": "7ce1de8e-c476-4b62-ac59-52f904a664c8",
   "metadata": {},
   "outputs": [],
   "source": [
    "# Importing necessary libraries\n",
    "import numpy as np\n",
    "import pandas as pd\n",
    "import scipy.stats as stats #for statistical functions / operations"
   ]
  },
  {
   "cell_type": "code",
   "execution_count": 2,
   "id": "257d69ea-8e85-4c5a-bc6f-3a1dacd6132e",
   "metadata": {},
   "outputs": [],
   "source": [
    "# given Sample data for the durability of print-heads (in millions of characters)\n",
    "durability_data = np.array([1.13, 1.55, 1.43, 0.92, 1.25, 1.36, 1.32, 0.85, \n",
    "                            1.07, 1.48, 1.20, 1.33, 1.18, 1.22, 1.29])\n",
    "# Creating a DataFrame for ease of working\n",
    "df = pd.DataFrame(durability_data, columns=['Durability'])"
   ]
  },
  {
   "cell_type": "markdown",
   "id": "9d080498-b599-40dc-aee8-9d875df5629e",
   "metadata": {},
   "source": [
    "### Step 1: Calculating sample mean and sample standard deviation"
   ]
  },
  {
   "cell_type": "code",
   "execution_count": 4,
   "id": "f61274c4-63b1-45f8-9cf3-cd248358eb9d",
   "metadata": {},
   "outputs": [
    {
     "name": "stdout",
     "output_type": "stream",
     "text": [
      "Sample Mean: 1.239\n",
      "Sample Standard Deviation: 0.193\n"
     ]
    }
   ],
   "source": [
    "n = len(df)\n",
    "sample_mean = df['Durability'].mean()\n",
    "sample_std = df['Durability'].std(ddof=1)  # Sample standard deviation , ddof=1  corrects the bias in the estimation of the population standard deviation from a sample\n",
    "print(f\"Sample Mean: {sample_mean:.3f}\")\n",
    "print(f\"Sample Standard Deviation: {sample_std:.3f}\")"
   ]
  },
  {
   "cell_type": "markdown",
   "id": "80d9ed43-8927-4d1a-a2f6-a01b2dba9cae",
   "metadata": {},
   "source": [
    "### Step 2: Calculating the t-value for 99% confidence level"
   ]
  },
  {
   "cell_type": "code",
   "execution_count": 6,
   "id": "d7fcc111-17a2-4393-ad5b-8d7bc623a73c",
   "metadata": {},
   "outputs": [
    {
     "data": {
      "text/plain": [
       "2.976842734370834"
      ]
     },
     "execution_count": 6,
     "metadata": {},
     "output_type": "execute_result"
    }
   ],
   "source": [
    "confidence_level = 0.99\n",
    "alpha = 1 - confidence_level\n",
    "t_value = stats.t.ppf(1 - alpha/2, n - 1)# t.ppf=(percent-point function) is the inverse of the cumulative distribution function (CDF) for the t-distribution. Essentially, it returns the t-value associated with a given probability level.\n",
    "t_value"
   ]
  },
  {
   "cell_type": "markdown",
   "id": "42651586-df63-4669-8755-22d2f79b77fe",
   "metadata": {},
   "source": [
    "### Step 3: Constructing the confidence interval using Sample Standard deviation"
   ]
  },
  {
   "cell_type": "code",
   "execution_count": 8,
   "id": "4a9e016a-90e1-4ebd-b1da-3fb0f1e1bf5b",
   "metadata": {},
   "outputs": [
    {
     "name": "stdout",
     "output_type": "stream",
     "text": [
      "99% Confidence Interval (Sample Std Dev): (1.0901973384384906, 1.3871359948948425)\n"
     ]
    }
   ],
   "source": [
    "margin_of_error_sample = t_value * (sample_std / np.sqrt(n))\n",
    "ci_sample = (sample_mean - margin_of_error_sample, sample_mean + margin_of_error_sample)\n",
    "print(f\"99% Confidence Interval (Sample Std Dev): {ci_sample}\")\n",
    "# Part B: Using known population standard deviation\n",
    "population_std = 0.2  # Known population standard deviation"
   ]
  },
  {
   "cell_type": "markdown",
   "id": "36eff632-bc08-4bcb-a669-0e1a6dff6a85",
   "metadata": {},
   "source": [
    "### Step 4: Calculating the z-value for 99% confidence level"
   ]
  },
  {
   "cell_type": "code",
   "execution_count": 10,
   "id": "1de4bd73-2458-4288-ad0a-50a9bb9a4ddd",
   "metadata": {},
   "outputs": [],
   "source": [
    "z_value = stats.norm.ppf(1 - alpha/2)"
   ]
  },
  {
   "cell_type": "markdown",
   "id": "cb10e36c-d115-4a03-88f7-d69194a3d52c",
   "metadata": {},
   "source": [
    "### Step 5: Constructing the confidence interval using known Population standard deviation"
   ]
  },
  {
   "cell_type": "code",
   "execution_count": 12,
   "id": "f99bc283-0262-488d-85d9-913b27a3b47e",
   "metadata": {},
   "outputs": [
    {
     "name": "stdout",
     "output_type": "stream",
     "text": [
      "99% Confidence Interval (Known Pop Std Dev): (1.1056514133957607, 1.3716819199375725)\n"
     ]
    }
   ],
   "source": [
    "margin_of_error_population = z_value * (population_std / np.sqrt(n))\n",
    "ci_population = (sample_mean - margin_of_error_population, sample_mean + margin_of_error_population)\n",
    "print(f\"99% Confidence Interval (Known Pop Std Dev): {ci_population}\")\n"
   ]
  },
  {
   "cell_type": "markdown",
   "id": "1a03d269-4a7b-4903-8b22-42f4957612fe",
   "metadata": {},
   "source": [
    "### conclusion "
   ]
  },
  {
   "cell_type": "markdown",
   "id": "0143cb84-a082-4663-9cdf-e570683c64f6",
   "metadata": {},
   "source": [
    "Both confidence intervals provide valuable insights into the durability of the print-heads, with both intervals indicating that the mean durability is expected to be just over 1 million characters but less than 1.4 million characters. The slight differences between the intervals highlight the impact of knowing the population standard deviation versus relying on the sample standard deviation, emphasizing the importance of understanding the underlying assumptions in statistical analysis.\n",
    "\n",
    "These results can guide the manufacturer in assessing product quality and making informed decisions regarding production and quality control processes."
   ]
  }
 ],
 "metadata": {
  "kernelspec": {
   "display_name": "Python 3 (ipykernel)",
   "language": "python",
   "name": "python3"
  },
  "language_info": {
   "codemirror_mode": {
    "name": "ipython",
    "version": 3
   },
   "file_extension": ".py",
   "mimetype": "text/x-python",
   "name": "python",
   "nbconvert_exporter": "python",
   "pygments_lexer": "ipython3",
   "version": "3.12.3"
  }
 },
 "nbformat": 4,
 "nbformat_minor": 5
}
