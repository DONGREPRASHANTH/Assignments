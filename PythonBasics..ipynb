{
 "cells": [
  {
   "cell_type": "markdown",
   "id": "ec773ac3-2a5b-4199-8805-e2c758f8da0c",
   "metadata": {},
   "source": [
    "### Exercise 1 (Checking prime or not)\n",
    "Writing a Python program that checks whether a given number is prime or not. \n",
    "A prime number is a natural number greater than 1 that has no positive divisors other than 1 and itself."
   ]
  },
  {
   "cell_type": "code",
   "execution_count": 2,
   "id": "2fe934cc-7be8-497f-b2f7-2a5614d6543f",
   "metadata": {},
   "outputs": [
    {
     "name": "stdin",
     "output_type": "stream",
     "text": [
      "enter your desired number to check whether its a prime or not 68\n"
     ]
    }
   ],
   "source": [
    "x=int(input(\"enter your desired number to check whether its a prime or not\")) #taking input from user"
   ]
  },
  {
   "cell_type": "code",
   "execution_count": 3,
   "id": "5d5a1d49-b4c2-4efd-b9ea-69995d7f9065",
   "metadata": {},
   "outputs": [
    {
     "name": "stdout",
     "output_type": "stream",
     "text": [
      "68 is not a prime number.\n"
     ]
    }
   ],
   "source": [
    "# Check if the number is prime\n",
    "if x <= 1:  # If the input number is less than or equal to 1, it is not prime\n",
    "    print(x, \"is not a prime number.\")\n",
    "else:\n",
    "    is_prime = True  # Assume the number is prime\n",
    "    for i in range(2, int(x**0.5) + 1):  # Check for factors from 2 to the square root of number\n",
    "        if x % i == 0:  # If number is divisible by i, it's not prime\n",
    "            is_prime = False\n",
    "            break\n",
    "    # Output the result\n",
    "    if is_prime:\n",
    "        print(x, \"is a prime number.\")\n",
    "    else:\n",
    "        print(x, \"is not a prime number.\")\n"
   ]
  },
  {
   "cell_type": "code",
   "execution_count": null,
   "id": "072991ac-10fe-47ed-9135-76706303d231",
   "metadata": {},
   "outputs": [],
   "source": []
  },
  {
   "cell_type": "markdown",
   "id": "561930d3-56bf-4fd3-8922-a4d7bd2188ab",
   "metadata": {},
   "source": [
    "### Exercise 2: Product of Random Numbers\n",
    "Developing a Python program that generates two random numbers and asks the user to enter the product of these numbers. This program check's if the user's answer is correct or not and display an appropriate message.\n"
   ]
  },
  {
   "cell_type": "code",
   "execution_count": 16,
   "id": "2222477f-c143-4eb1-961e-397c4d9be660",
   "metadata": {},
   "outputs": [
    {
     "name": "stdin",
     "output_type": "stream",
     "text": [
      "What is the product of 6 and 10  60\n"
     ]
    },
    {
     "name": "stdout",
     "output_type": "stream",
     "text": [
      "Correct! Well done.\n"
     ]
    }
   ],
   "source": [
    "#importing required libraries \n",
    "import random   #it is to generate random numbers.\n",
    "\n",
    "def product_quiz(): #here we are defining a function whic is to Generating two random numbers, for example between 1 and 20\n",
    "    num1 = random.randint(1, 20)\n",
    "    num2 = random.randint(1, 20)\n",
    "\n",
    "    # Asking the user for the product as input\n",
    "    user_answer = int(input(f\"What is the product of {num1} and {num2} \"))\n",
    "\n",
    "    # Checking if the answer is correct or not\n",
    "    if user_answer == num1 * num2:\n",
    "        print(\"Correct! Well done.\")\n",
    "    else:\n",
    "        print(f\"Incorrect. The correct answer is {num1 * num2}.\")\n",
    "\n",
    "# Run the function\n",
    "product_quiz()"
   ]
  },
  {
   "cell_type": "code",
   "execution_count": null,
   "id": "7e57a41a-7db6-4ff8-8f29-9d22828a0e79",
   "metadata": {},
   "outputs": [],
   "source": []
  },
  {
   "cell_type": "markdown",
   "id": "efd6e3a0-08b1-45f5-9afd-e4e0709091f6",
   "metadata": {},
   "source": [
    "### Exercise 3: Squares of Even/Odd Numbers\n",
    "Creating a Python script that prints the squares of all even or odd numbers within the range of 100 to 200. Choose either even or odd numbers and document your choice in the code.\n"
   ]
  },
  {
   "cell_type": "code",
   "execution_count": 35,
   "id": "b4bf098d-0954-4961-b06b-10660f9c182a",
   "metadata": {},
   "outputs": [
    {
     "name": "stdin",
     "output_type": "stream",
     "text": [
      "Enter 1 to print even numbers, 2 to print odd numbers:  1\n"
     ]
    },
    {
     "name": "stdout",
     "output_type": "stream",
     "text": [
      "Dear user you chose to print even numbers squares from 100-200 \n",
      "The square of 100 is 10000\n",
      "The square of 102 is 10404\n",
      "The square of 104 is 10816\n",
      "The square of 106 is 11236\n",
      "The square of 108 is 11664\n",
      "The square of 110 is 12100\n",
      "The square of 112 is 12544\n",
      "The square of 114 is 12996\n",
      "The square of 116 is 13456\n",
      "The square of 118 is 13924\n",
      "The square of 120 is 14400\n",
      "The square of 122 is 14884\n",
      "The square of 124 is 15376\n",
      "The square of 126 is 15876\n",
      "The square of 128 is 16384\n",
      "The square of 130 is 16900\n",
      "The square of 132 is 17424\n",
      "The square of 134 is 17956\n",
      "The square of 136 is 18496\n",
      "The square of 138 is 19044\n",
      "The square of 140 is 19600\n",
      "The square of 142 is 20164\n",
      "The square of 144 is 20736\n",
      "The square of 146 is 21316\n",
      "The square of 148 is 21904\n",
      "The square of 150 is 22500\n",
      "The square of 152 is 23104\n",
      "The square of 154 is 23716\n",
      "The square of 156 is 24336\n",
      "The square of 158 is 24964\n",
      "The square of 160 is 25600\n",
      "The square of 162 is 26244\n",
      "The square of 164 is 26896\n",
      "The square of 166 is 27556\n",
      "The square of 168 is 28224\n",
      "The square of 170 is 28900\n",
      "The square of 172 is 29584\n",
      "The square of 174 is 30276\n",
      "The square of 176 is 30976\n",
      "The square of 178 is 31684\n",
      "The square of 180 is 32400\n",
      "The square of 182 is 33124\n",
      "The square of 184 is 33856\n",
      "The square of 186 is 34596\n",
      "The square of 188 is 35344\n",
      "The square of 190 is 36100\n",
      "The square of 192 is 36864\n",
      "The square of 194 is 37636\n",
      "The square of 196 is 38416\n",
      "The square of 198 is 39204\n",
      "The square of 200 is 40000\n"
     ]
    }
   ],
   "source": [
    "# Get user input for the option\n",
    "option = input(\"Enter 1 to print even numbers, 2 to print odd numbers: \")\n",
    "switcher={\n",
    "    '1':\"Dear user you chose to print even numbers squares from 100-200 \",\n",
    "    '2':\"Dear user you chose want to print odd numbers squares from 100-200 \",\n",
    "}\n",
    "if option in switcher:\n",
    "    print(switcher[option])\n",
    "    if option =='1':\n",
    "        for num in range(100,201):\n",
    "            if num % 2==0: #even number\n",
    "                square=num**2 #calculating square of number which is in between 100,200 even\n",
    "                print(f\"The square of {num} is {square}\")\n",
    "    elif option=='2':\n",
    "        for num in range(100,201):\n",
    "            if num%2 !=0:\n",
    "                square=num**2 #calculating square of number which is in between 100,200 odd\n",
    "                print(f\"The square of {num} is {square}\")\n",
    "else:\n",
    "    print(\"dear user you have entered an invalid input please select 1 for even or 2 for odd\")"
   ]
  },
  {
   "cell_type": "code",
   "execution_count": null,
   "id": "b15f68a9-6302-49c5-9f8f-2b22a2395ac5",
   "metadata": {},
   "outputs": [],
   "source": []
  },
  {
   "cell_type": "markdown",
   "id": "a522f6b3-3276-40f0-aea4-b257031b40ae",
   "metadata": {},
   "source": [
    "### Exercise 4: Word counter\n",
    "writing a python program to count the number of words in a given text.\n"
   ]
  },
  {
   "cell_type": "code",
   "execution_count": 70,
   "id": "2bd974f7-82a7-49db-ba5a-f5b7661ce5ba",
   "metadata": {},
   "outputs": [
    {
     "name": "stdin",
     "output_type": "stream",
     "text": [
      "   hi this is prashanth dongre, this is my intro...\n"
     ]
    },
    {
     "name": "stdout",
     "output_type": "stream",
     "text": [
      "'hi': 1\n",
      "'this': 2\n",
      "'is': 2\n",
      "'prashanth': 1\n",
      "'dongre,': 1\n",
      "'my': 1\n",
      "'intro...': 1\n"
     ]
    }
   ],
   "source": [
    "\n",
    "input_your_text = input(\" \")# taking input from user in string/char form\n",
    "\n",
    "word_list = input_your_text.split()# Convert the text to lowercase and split into words\n",
    "word_count = {} # Creating a dictionary to store word counts\n",
    "\n",
    "for word in word_list: # Counting the occurrences of each \n",
    "        word_count[word] = word_count.get(word, 0) + 1\n",
    "\n",
    "for word, count in word_count.items():\n",
    "\n",
    "    print(f\"'{word}': {count}\") # Prints the word counts\n"
   ]
  },
  {
   "cell_type": "code",
   "execution_count": null,
   "id": "6e2251b9-c9fd-42cf-b8d6-166ee8f9c22e",
   "metadata": {},
   "outputs": [],
   "source": []
  },
  {
   "cell_type": "markdown",
   "id": "3f97c35d-94db-4215-9bb8-e48ff1bcfb98",
   "metadata": {},
   "source": [
    "### Exercise 5: Check for Palindrome\n",
    "Writing a Python function called is_palindrome that takes a string as input and returns True if the string is a palindrome, and False otherwise. \n",
    "A palindrome is a word, phrase, number, or other sequence of characters that reads the same forward and backward, ignoring spaces, punctuation, and capitalization."
   ]
  },
  {
   "cell_type": "code",
   "execution_count": 107,
   "id": "cda2f666-deef-45ae-8774-7a8429a56454",
   "metadata": {},
   "outputs": [
    {
     "name": "stdin",
     "output_type": "stream",
     "text": [
      "Dear user enter your string to check its a polindrom or not:  pdp\n"
     ]
    },
    {
     "name": "stdout",
     "output_type": "stream",
     "text": [
      "True\n"
     ]
    }
   ],
   "source": [
    "def is_palindrome(input_string): #defining a function\n",
    "    # Check if the input string is equal to its reverse\n",
    "    return input_string == input_string[::-1] #checking reversed string\n",
    "        \n",
    "input_string=input(\"Dear user enter your string to check its a polindrom or not: \") #taking input from user\n",
    "if is_palindrome(input_string): #using defined function\n",
    "    print(True)\n",
    "else :\n",
    "    print(False)\n",
    "    "
   ]
  }
 ],
 "metadata": {
  "kernelspec": {
   "display_name": "Python 3 (ipykernel)",
   "language": "python",
   "name": "python3"
  },
  "language_info": {
   "codemirror_mode": {
    "name": "ipython",
    "version": 3
   },
   "file_extension": ".py",
   "mimetype": "text/x-python",
   "name": "python",
   "nbconvert_exporter": "python",
   "pygments_lexer": "ipython3",
   "version": "3.12.3"
  }
 },
 "nbformat": 4,
 "nbformat_minor": 5
}
